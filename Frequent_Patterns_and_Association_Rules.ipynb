{
  "nbformat": 4,
  "nbformat_minor": 0,
  "metadata": {
    "colab": {
      "provenance": [],
      "authorship_tag": "ABX9TyMJKnbFt3N+upZGnE+YvNKL",
      "include_colab_link": true
    },
    "kernelspec": {
      "name": "python3",
      "display_name": "Python 3"
    },
    "language_info": {
      "name": "python"
    }
  },
  "cells": [
    {
      "cell_type": "markdown",
      "metadata": {
        "id": "view-in-github",
        "colab_type": "text"
      },
      "source": [
        "<a href=\"https://colab.research.google.com/github/cindy12651269/Frequent_Patterns_and_Association_Rules/blob/cindy12651269%2Fhw1/Frequent_Patterns_and_Association_Rules.ipynb\" target=\"_parent\"><img src=\"https://colab.research.google.com/assets/colab-badge.svg\" alt=\"Open In Colab\"/></a>"
      ]
    },
    {
      "cell_type": "code",
      "execution_count": null,
      "metadata": {
        "colab": {
          "base_uri": "https://localhost:8080/"
        },
        "id": "rFMOvZgrxj6q",
        "outputId": "67c1af20-dbc4-4019-89fd-b396805e2903"
      },
      "outputs": [
        {
          "output_type": "stream",
          "name": "stdout",
          "text": [
            "Frequent Itemsets:\n",
            "    support                     itemsets\n",
            "0       0.8                       (Eggs)\n",
            "1       1.0               (Kidney Beans)\n",
            "2       0.6                       (Milk)\n",
            "3       0.6                      (Onion)\n",
            "4       0.6                     (Yogurt)\n",
            "5       0.8         (Eggs, Kidney Beans)\n",
            "6       0.6                (Eggs, Onion)\n",
            "7       0.6         (Milk, Kidney Beans)\n",
            "8       0.6        (Kidney Beans, Onion)\n",
            "9       0.6       (Kidney Beans, Yogurt)\n",
            "10      0.6  (Eggs, Onion, Kidney Beans)\n",
            "\n",
            "Association Rules:\n",
            "              antecedents            consequents  antecedent support  \\\n",
            "0                  (Eggs)         (Kidney Beans)                 0.8   \n",
            "1          (Kidney Beans)                 (Eggs)                 1.0   \n",
            "2                  (Eggs)                (Onion)                 0.8   \n",
            "3                 (Onion)                 (Eggs)                 0.6   \n",
            "4                  (Milk)         (Kidney Beans)                 0.6   \n",
            "5          (Kidney Beans)                 (Milk)                 1.0   \n",
            "6          (Kidney Beans)                (Onion)                 1.0   \n",
            "7                 (Onion)         (Kidney Beans)                 0.6   \n",
            "8          (Kidney Beans)               (Yogurt)                 1.0   \n",
            "9                (Yogurt)         (Kidney Beans)                 0.6   \n",
            "10          (Eggs, Onion)         (Kidney Beans)                 0.6   \n",
            "11   (Eggs, Kidney Beans)                (Onion)                 0.8   \n",
            "12  (Kidney Beans, Onion)                 (Eggs)                 0.6   \n",
            "13                 (Eggs)  (Kidney Beans, Onion)                 0.8   \n",
            "14                (Onion)   (Eggs, Kidney Beans)                 0.6   \n",
            "15         (Kidney Beans)          (Eggs, Onion)                 1.0   \n",
            "\n",
            "    consequent support  support  confidence  lift  leverage  conviction  \\\n",
            "0                  1.0      0.8        1.00  1.00      0.00         inf   \n",
            "1                  0.8      0.8        0.80  1.00      0.00         1.0   \n",
            "2                  0.6      0.6        0.75  1.25      0.12         1.6   \n",
            "3                  0.8      0.6        1.00  1.25      0.12         inf   \n",
            "4                  1.0      0.6        1.00  1.00      0.00         inf   \n",
            "5                  0.6      0.6        0.60  1.00      0.00         1.0   \n",
            "6                  0.6      0.6        0.60  1.00      0.00         1.0   \n",
            "7                  1.0      0.6        1.00  1.00      0.00         inf   \n",
            "8                  0.6      0.6        0.60  1.00      0.00         1.0   \n",
            "9                  1.0      0.6        1.00  1.00      0.00         inf   \n",
            "10                 1.0      0.6        1.00  1.00      0.00         inf   \n",
            "11                 0.6      0.6        0.75  1.25      0.12         1.6   \n",
            "12                 0.8      0.6        1.00  1.25      0.12         inf   \n",
            "13                 0.6      0.6        0.75  1.25      0.12         1.6   \n",
            "14                 0.8      0.6        1.00  1.25      0.12         inf   \n",
            "15                 0.6      0.6        0.60  1.00      0.00         1.0   \n",
            "\n",
            "    zhangs_metric  \n",
            "0             0.0  \n",
            "1             0.0  \n",
            "2             1.0  \n",
            "3             0.5  \n",
            "4             0.0  \n",
            "5             0.0  \n",
            "6             0.0  \n",
            "7             0.0  \n",
            "8             0.0  \n",
            "9             0.0  \n",
            "10            0.0  \n",
            "11            1.0  \n",
            "12            0.5  \n",
            "13            1.0  \n",
            "14            0.5  \n",
            "15            0.0  \n"
          ]
        },
        {
          "output_type": "stream",
          "name": "stderr",
          "text": [
            "/usr/local/lib/python3.10/dist-packages/ipykernel/ipkernel.py:283: DeprecationWarning: `should_run_async` will not call `transform_cell` automatically in the future. Please pass the result to `transformed_cell` argument and any exception that happen during thetransform in `preprocessing_exc_tuple` in IPython 7.17 and above.\n",
            "  and should_run_async(code)\n"
          ]
        }
      ],
      "source": [
        "from mlxtend.preprocessing import TransactionEncoder\n",
        "from mlxtend.frequent_patterns import apriori, association_rules\n",
        "import pandas as pd\n",
        "\n",
        "# Given dataset\n",
        "dataset = [\n",
        "    ['Milk', 'Onion', 'Nutmeg', 'Kidney Beans', 'Eggs', 'Yogurt'],\n",
        "    ['Dill', 'Onion', 'Nutmeg', 'Kidney Beans', 'Eggs', 'Yogurt'],\n",
        "    ['Milk', 'Apple', 'Kidney Beans', 'Eggs'],\n",
        "    ['Milk', 'Unicorn', 'Corn', 'Kidney Beans', 'Yogurt'],\n",
        "    ['Corn', 'Onion', 'Onion', 'Kidney Beans', 'Ice cream', 'Eggs'],\n",
        "]\n",
        "\n",
        "# Convert the dataset to a format suitable for the apriori function\n",
        "te = TransactionEncoder()\n",
        "te_ary = te.fit(dataset).transform(dataset)\n",
        "df = pd.DataFrame(te_ary, columns=te.columns_)\n",
        "\n",
        "# Use the apriori function to find frequent itemsets\n",
        "frequent_itemsets = apriori(df, min_support=0.6, use_colnames=True)\n",
        "\n",
        "# Use the association_rules function to generate association rules\n",
        "rules = association_rules(frequent_itemsets, metric=\"lift\", min_threshold=1)\n",
        "\n",
        "# Display results\n",
        "print(\"Frequent Itemsets:\")\n",
        "print(frequent_itemsets)\n",
        "print(\"\\nAssociation Rules:\")\n",
        "print(rules)\n"
      ]
    }
  ]
}